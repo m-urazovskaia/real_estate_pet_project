{
 "cells": [
  {
   "cell_type": "code",
   "execution_count": null,
   "metadata": {},
   "outputs": [],
   "source": [
    "('one', 11)"
   ]
  },
  {
   "cell_type": "code",
   "execution_count": 247,
   "metadata": {},
   "outputs": [],
   "source": [
    "d = {'one': 11,\n",
    "    33: 'hello',\n",
    "    'welcome': 999}"
   ]
  },
  {
   "cell_type": "code",
   "execution_count": 248,
   "metadata": {},
   "outputs": [],
   "source": [
    "prices = set()\n",
    "for k, v in d.items():\n",
    "    prices.add((k,v))"
   ]
  },
  {
   "cell_type": "code",
   "execution_count": 253,
   "metadata": {},
   "outputs": [
    {
     "data": {
      "text/plain": [
       "dict_keys(['one', 33, 'welcome'])"
      ]
     },
     "execution_count": 253,
     "metadata": {},
     "output_type": "execute_result"
    }
   ],
   "source": [
    "d.items()\n",
    "d.keys()"
   ]
  },
  {
   "cell_type": "code",
   "execution_count": 249,
   "metadata": {},
   "outputs": [
    {
     "data": {
      "text/plain": [
       "{('one', 11), ('welcome', 999), (33, 'hello')}"
      ]
     },
     "execution_count": 249,
     "metadata": {},
     "output_type": "execute_result"
    }
   ],
   "source": [
    "prices"
   ]
  },
  {
   "cell_type": "code",
   "execution_count": 226,
   "metadata": {},
   "outputs": [],
   "source": [
    "window_view =  [\n",
    "{\"display_name\" : \"Парк\"},\n",
    "{\"display_name\" : \"Водоем\"},\n",
    "{\"display_name\" : \"Улица\"}\n",
    "]"
   ]
  },
  {
   "cell_type": "code",
   "execution_count": 227,
   "metadata": {},
   "outputs": [
    {
     "data": {
      "text/plain": [
       "[{'display_name': 'Парк'},\n",
       " {'display_name': 'Водоем'},\n",
       " {'display_name': 'Улица'}]"
      ]
     },
     "execution_count": 227,
     "metadata": {},
     "output_type": "execute_result"
    }
   ],
   "source": [
    "window_view"
   ]
  },
  {
   "cell_type": "code",
   "execution_count": 228,
   "metadata": {},
   "outputs": [
    {
     "data": {
      "text/plain": [
       "{'display_name': 'Парк'}"
      ]
     },
     "execution_count": 228,
     "metadata": {},
     "output_type": "execute_result"
    }
   ],
   "source": [
    "window_view[0]"
   ]
  },
  {
   "cell_type": "code",
   "execution_count": 237,
   "metadata": {},
   "outputs": [
    {
     "data": {
      "text/plain": [
       "'Парк, Водоем, Улица'"
      ]
     },
     "execution_count": 237,
     "metadata": {},
     "output_type": "execute_result"
    }
   ],
   "source": [
    "new_list = list()\n",
    "for inner_dict in window_view:\n",
    "    new_list.append(inner_dict['display_name'])\n",
    "', '.join(new_list) "
   ]
  },
  {
   "cell_type": "code",
   "execution_count": 241,
   "metadata": {},
   "outputs": [
    {
     "data": {
      "text/plain": [
       "'Парк, Водоем, Улица'"
      ]
     },
     "execution_count": 241,
     "metadata": {},
     "output_type": "execute_result"
    }
   ],
   "source": [
    "new_list = [inner_dict['display_name'] for inner_dict in window_view]\n",
    "', '.join(new_list)"
   ]
  },
  {
   "cell_type": "code",
   "execution_count": 7,
   "metadata": {},
   "outputs": [],
   "source": [
    "import pandas as pd"
   ]
  },
  {
   "cell_type": "code",
   "execution_count": 1,
   "metadata": {},
   "outputs": [],
   "source": [
    "import sys\n",
    "sys.path.append('..')"
   ]
  },
  {
   "cell_type": "code",
   "execution_count": 2,
   "metadata": {},
   "outputs": [],
   "source": [
    "from config import config\n",
    "from connect import connect_mongo"
   ]
  },
  {
   "cell_type": "code",
   "execution_count": 31,
   "metadata": {},
   "outputs": [],
   "source": [
    "collection = connect_mongo(config_file='../database.ini')\n",
    "cursor = collection.find()"
   ]
  },
  {
   "cell_type": "code",
   "execution_count": 32,
   "metadata": {},
   "outputs": [],
   "source": [
    "ds = list()\n",
    "for doc in cursor:\n",
    "    ds.append(doc)\n",
    "df = pd.DataFrame(ds)"
   ]
  },
  {
   "cell_type": "code",
   "execution_count": 147,
   "metadata": {},
   "outputs": [],
   "source": [
    "df = df[df.object_info.notna()]"
   ]
  },
  {
   "cell_type": "code",
   "execution_count": 33,
   "metadata": {},
   "outputs": [],
   "source": [
    "def extract_phone(seller):\n",
    "    return seller['agent']['phone']"
   ]
  },
  {
   "cell_type": "code",
   "execution_count": 34,
   "metadata": {},
   "outputs": [],
   "source": [
    "df['agent_phone'] = df.seller.apply(extract_phone)"
   ]
  },
  {
   "cell_type": "code",
   "execution_count": 35,
   "metadata": {
    "scrolled": true
   },
   "outputs": [
    {
     "data": {
      "text/plain": [
       "+7 999 *** ** 87    16897\n",
       "+7 812 *** ** 82    11378\n",
       "+7 843 *** ** 92     8712\n",
       "+7 812 *** ** 89     6895\n",
       "+7 967 *** ** 08     6757\n",
       "                    ...  \n",
       "+7 936 *** ** 90        1\n",
       "+7 913 *** ** 84        1\n",
       "+7 908 *** ** 75        1\n",
       "+7 995 *** ** 56        1\n",
       "+7 939 *** ** 41        1\n",
       "Name: agent_phone, Length: 6149, dtype: int64"
      ]
     },
     "execution_count": 35,
     "metadata": {},
     "output_type": "execute_result"
    }
   ],
   "source": [
    "df['agent_phone'].value_counts()"
   ]
  },
  {
   "cell_type": "code",
   "execution_count": 95,
   "metadata": {},
   "outputs": [],
   "source": [
    "def extract_company_name(seller):\n",
    "    company = seller['company']\n",
    "    company_name = company.get('name', None)\n",
    "    return company_name\n",
    "\n",
    "def extract_city_name(address):\n",
    "    locality = address.get('locality',None)\n",
    "    if locality:\n",
    "        name = locality.get('name', None)\n",
    "        return name\n",
    "    \n",
    "def extract_agent_id(seller):\n",
    "    agent = seller['agent']\n",
    "    agent_id = agent.get('cas_id', None)\n",
    "    return agent_id"
   ]
  },
  {
   "cell_type": "code",
   "execution_count": 97,
   "metadata": {},
   "outputs": [
    {
     "data": {
      "text/plain": [
       "0         13373998.0\n",
       "1         13181236.0\n",
       "2         12380086.0\n",
       "3          3547390.0\n",
       "4         13635874.0\n",
       "             ...    \n",
       "489108    10027577.0\n",
       "489109     8883965.0\n",
       "489110       48835.0\n",
       "489111     5028005.0\n",
       "489112    10027577.0\n",
       "Name: agent_id, Length: 489113, dtype: float64"
      ]
     },
     "execution_count": 97,
     "metadata": {},
     "output_type": "execute_result"
    }
   ],
   "source": [
    "df['agent_id'] = df.seller.apply(extract_agent_id)\n",
    "df['agent_id']"
   ]
  },
  {
   "cell_type": "code",
   "execution_count": 81,
   "metadata": {},
   "outputs": [],
   "source": [
    "df['city_name'] = df.address.apply(extract_city_name)"
   ]
  },
  {
   "cell_type": "code",
   "execution_count": 37,
   "metadata": {
    "scrolled": true
   },
   "outputs": [
    {
     "data": {
      "text/plain": [
       "0                                  None\n",
       "1                                  None\n",
       "2                                  None\n",
       "3                                  None\n",
       "4                    БИЛДИНГ ГРУПП СОЧИ\n",
       "                      ...              \n",
       "489108                ЭТАЖИ-ВЛАДИВОСТОК\n",
       "489109                ЭТАЖИ-ВЛАДИВОСТОК\n",
       "489110                    ООО \"ФОЛИАНТ\"\n",
       "489111    ИП Чалдин Алексей Анатольевич\n",
       "489112                ЭТАЖИ-ВЛАДИВОСТОК\n",
       "Name: company_name, Length: 489113, dtype: object"
      ]
     },
     "execution_count": 37,
     "metadata": {},
     "output_type": "execute_result"
    }
   ],
   "source": [
    "df['company_name'] = df.seller.apply(extract_company_name)\n",
    "df['company_name'] "
   ]
  },
  {
   "cell_type": "code",
   "execution_count": 38,
   "metadata": {},
   "outputs": [],
   "source": [
    "def extract_agent_info(seller):\n",
    "    agent = seller['agent']\n",
    "    agent_name = agent.get('full_name', None)\n",
    "    agent_phone = agent.get('phone', None)\n",
    "    is_agent = agent.get('is_agent', None)\n",
    "    return agent_name, agent_phone, is_agent"
   ]
  },
  {
   "cell_type": "code",
   "execution_count": 56,
   "metadata": {},
   "outputs": [
    {
     "data": {
      "text/html": [
       "<div>\n",
       "<style scoped>\n",
       "    .dataframe tbody tr th:only-of-type {\n",
       "        vertical-align: middle;\n",
       "    }\n",
       "\n",
       "    .dataframe tbody tr th {\n",
       "        vertical-align: top;\n",
       "    }\n",
       "\n",
       "    .dataframe thead th {\n",
       "        text-align: right;\n",
       "    }\n",
       "</style>\n",
       "<table border=\"1\" class=\"dataframe\">\n",
       "  <thead>\n",
       "    <tr style=\"text-align: right;\">\n",
       "      <th></th>\n",
       "      <th>0</th>\n",
       "      <th>1</th>\n",
       "      <th>2</th>\n",
       "    </tr>\n",
       "  </thead>\n",
       "  <tbody>\n",
       "    <tr>\n",
       "      <th>77724</th>\n",
       "      <td>Продавец</td>\n",
       "      <td>+7 910 *** ** 63</td>\n",
       "      <td>False</td>\n",
       "    </tr>\n",
       "    <tr>\n",
       "      <th>450672</th>\n",
       "      <td>Анна</td>\n",
       "      <td>+7 919 *** ** 00</td>\n",
       "      <td>True</td>\n",
       "    </tr>\n",
       "    <tr>\n",
       "      <th>221617</th>\n",
       "      <td>АН «Конкорд»</td>\n",
       "      <td>+7 905 *** ** 61</td>\n",
       "      <td>True</td>\n",
       "    </tr>\n",
       "    <tr>\n",
       "      <th>468150</th>\n",
       "      <td>Соловьев Дмитрий</td>\n",
       "      <td>+7 906 *** ** 30</td>\n",
       "      <td>True</td>\n",
       "    </tr>\n",
       "    <tr>\n",
       "      <th>10702</th>\n",
       "      <td>Анна</td>\n",
       "      <td>+7 967 *** ** 78</td>\n",
       "      <td>True</td>\n",
       "    </tr>\n",
       "    <tr>\n",
       "      <th>...</th>\n",
       "      <td>...</td>\n",
       "      <td>...</td>\n",
       "      <td>...</td>\n",
       "    </tr>\n",
       "    <tr>\n",
       "      <th>343032</th>\n",
       "      <td>Валерия Алексеевна</td>\n",
       "      <td>+7 911 *** ** 03</td>\n",
       "      <td>True</td>\n",
       "    </tr>\n",
       "    <tr>\n",
       "      <th>157304</th>\n",
       "      <td>Мн</td>\n",
       "      <td>+7 965 *** ** 00</td>\n",
       "      <td>True</td>\n",
       "    </tr>\n",
       "    <tr>\n",
       "      <th>26171</th>\n",
       "      <td>Тамара</td>\n",
       "      <td>+7 931 *** ** 50</td>\n",
       "      <td>True</td>\n",
       "    </tr>\n",
       "    <tr>\n",
       "      <th>125139</th>\n",
       "      <td>Продавец</td>\n",
       "      <td>+7 495 *** ** 90</td>\n",
       "      <td>False</td>\n",
       "    </tr>\n",
       "    <tr>\n",
       "      <th>48168</th>\n",
       "      <td>Сысоева Светлана Анатольевна</td>\n",
       "      <td>+7 963 *** ** 22</td>\n",
       "      <td>False</td>\n",
       "    </tr>\n",
       "  </tbody>\n",
       "</table>\n",
       "<p>1000 rows × 3 columns</p>\n",
       "</div>"
      ],
      "text/plain": [
       "                                   0                 1      2\n",
       "77724                       Продавец  +7 910 *** ** 63  False\n",
       "450672                          Анна  +7 919 *** ** 00   True\n",
       "221617                  АН «Конкорд»  +7 905 *** ** 61   True\n",
       "468150              Соловьев Дмитрий  +7 906 *** ** 30   True\n",
       "10702                           Анна  +7 967 *** ** 78   True\n",
       "...                              ...               ...    ...\n",
       "343032            Валерия Алексеевна  +7 911 *** ** 03   True\n",
       "157304                            Мн  +7 965 *** ** 00   True\n",
       "26171                         Тамара  +7 931 *** ** 50   True\n",
       "125139                      Продавец  +7 495 *** ** 90  False\n",
       "48168   Сысоева Светлана Анатольевна  +7 963 *** ** 22  False\n",
       "\n",
       "[1000 rows x 3 columns]"
      ]
     },
     "execution_count": 56,
     "metadata": {},
     "output_type": "execute_result"
    }
   ],
   "source": [
    "df.sample(1000).seller.apply(extract_agent_info).apply(pd.Series)"
   ]
  },
  {
   "cell_type": "code",
   "execution_count": 58,
   "metadata": {},
   "outputs": [],
   "source": [
    "df['agent_name'] = None\n",
    "df['agent_phone'] = None\n",
    "df['is_agent'] = None\n",
    "df[['agent_name', 'agent_phone', 'is_agent']] = df.seller.apply(extract_agent_info).apply(pd.Series)"
   ]
  },
  {
   "cell_type": "code",
   "execution_count": 42,
   "metadata": {},
   "outputs": [
    {
     "data": {
      "text/plain": [
       "(Сергей, +7 999 *** ** 87, True)              16740\n",
       "(Продавец, +7 812 *** ** 82, False)           11378\n",
       "(АН Ракурс, +7 843 *** ** 92, False)           8712\n",
       "(Кузнецова Ксения, +7 967 *** ** 08, True)     6653\n",
       "(Продавец, +7 812 *** ** 12, False)            3443\n",
       "                                              ...  \n",
       "(Любовь, +7 964 *** ** 69, False)                 1\n",
       "(Татьяна, +7 915 *** ** 11, False)                1\n",
       "(Мария, +7 909 *** ** 33, True)                   1\n",
       "(Алексей, +7 965 *** ** 06, False)                1\n",
       "(Оксана, +7 916 *** ** 70, False)                 1\n",
       "Name: agent_info, Length: 65674, dtype: int64"
      ]
     },
     "execution_count": 42,
     "metadata": {},
     "output_type": "execute_result"
    }
   ],
   "source": [
    "df['agent_info'].value_counts()"
   ]
  },
  {
   "cell_type": "code",
   "execution_count": 78,
   "metadata": {},
   "outputs": [
    {
     "data": {
      "text/plain": [
       "0         {'display_name': 'Россия, Краснодарский край, ...\n",
       "1         {'display_name': 'Россия, Краснодарский край, ...\n",
       "2         {'kind': 'house', 'position': {'lon': 39.70031...\n",
       "3         {'short_display_name': 'Краснодарский край, Со...\n",
       "4         {'id': 34090205, 'locality': {'id': 4096, 'gui...\n",
       "                                ...                        \n",
       "489108    {'guid': '0b47f163-a974-4f2d-b90f-80bd6313a4a4...\n",
       "489109    {'parent_id': 221265, 'locality': {'parent_id'...\n",
       "489110    {'kind': 'house', 'name': 'Сельская улица, 8',...\n",
       "489111    {'kind': 'house', 'name': 'улица Ильичёва, 20А...\n",
       "489112    {'kind': 'house', 'name': 'улица Добровольског...\n",
       "Name: address, Length: 489113, dtype: object"
      ]
     },
     "execution_count": 78,
     "metadata": {},
     "output_type": "execute_result"
    }
   ],
   "source": [
    "df.address"
   ]
  },
  {
   "cell_type": "code",
   "execution_count": 85,
   "metadata": {},
   "outputs": [
    {
     "data": {
      "text/plain": [
       "agent_name                   agent_phone       city_name      \n",
       "Крайнова Наталья Евгеньевна  +7 931 *** ** 33  Мурино                 1\n",
       "Масловская Марина            +7 952 *** ** 21  Пушкин                 1\n",
       "Маслова Эльмира Ринатовна    +7 916 *** ** 24  Москва                 1\n",
       "Маслова Татьяна Николаевна   +7 921 *** ** 08  Мурино                 1\n",
       "Маслов Максим Александрович  +7 911 *** ** 34  Санкт-Петербург        1\n",
       "                                                                  ...  \n",
       "Продавец                     +7 812 *** ** 12  Санкт-Петербург     2847\n",
       "Кузнецова Ксения             +7 967 *** ** 08  Москва              6623\n",
       "АН Ракурс                    +7 843 *** ** 92  Казань              8249\n",
       "Продавец                     +7 812 *** ** 82  Санкт-Петербург    10307\n",
       "Сергей                       +7 999 *** ** 87  Москва             16449\n",
       "Name: _id, Length: 128469, dtype: int64"
      ]
     },
     "execution_count": 85,
     "metadata": {},
     "output_type": "execute_result"
    }
   ],
   "source": [
    "df.groupby(['agent_name', 'agent_phone', 'city_name'])['_id'].count().sort_values() #['agent_phone'].agg(['unique', 'nunique']).sort_values('nunique',ascending=False).head(30)"
   ]
  },
  {
   "cell_type": "code",
   "execution_count": 89,
   "metadata": {},
   "outputs": [
    {
     "data": {
      "text/plain": [
       "False    45865\n",
       "True       510\n",
       "Name: is_agent, dtype: int64"
      ]
     },
     "execution_count": 89,
     "metadata": {},
     "output_type": "execute_result"
    }
   ],
   "source": [
    "df[df['agent_name'] == 'Продавец']['is_agent'].value_counts()"
   ]
  },
  {
   "cell_type": "code",
   "execution_count": 99,
   "metadata": {
    "scrolled": true
   },
   "outputs": [
    {
     "data": {
      "text/plain": [
       "7113745.0     16876\n",
       "14645976.0     6653\n",
       "1211184.0      2966\n",
       "4062183.0      2749\n",
       "3345908.0      2651\n",
       "              ...  \n",
       "13728673.0        1\n",
       "3432140.0         1\n",
       "1716007.0         1\n",
       "13727414.0        1\n",
       "6459199.0         1\n",
       "Name: agent_id, Length: 56854, dtype: int64"
      ]
     },
     "execution_count": 99,
     "metadata": {},
     "output_type": "execute_result"
    }
   ],
   "source": [
    "df['agent_id'].value_counts()"
   ]
  },
  {
   "cell_type": "code",
   "execution_count": 113,
   "metadata": {
    "scrolled": true
   },
   "outputs": [
    {
     "data": {
      "text/plain": [
       "56854"
      ]
     },
     "execution_count": 113,
     "metadata": {},
     "output_type": "execute_result"
    }
   ],
   "source": [
    "df['agent_id'].nunique()"
   ]
  },
  {
   "cell_type": "code",
   "execution_count": 109,
   "metadata": {
    "scrolled": true
   },
   "outputs": [
    {
     "data": {
      "text/html": [
       "<div>\n",
       "<style scoped>\n",
       "    .dataframe tbody tr th:only-of-type {\n",
       "        vertical-align: middle;\n",
       "    }\n",
       "\n",
       "    .dataframe tbody tr th {\n",
       "        vertical-align: top;\n",
       "    }\n",
       "\n",
       "    .dataframe thead th {\n",
       "        text-align: right;\n",
       "    }\n",
       "</style>\n",
       "<table border=\"1\" class=\"dataframe\">\n",
       "  <thead>\n",
       "    <tr style=\"text-align: right;\">\n",
       "      <th></th>\n",
       "      <th>_id</th>\n",
       "      <th>address</th>\n",
       "      <th>category</th>\n",
       "      <th>deal_type</th>\n",
       "      <th>discount_status</th>\n",
       "      <th>duplicates_offer_count</th>\n",
       "      <th>house</th>\n",
       "      <th>id</th>\n",
       "      <th>image_paths</th>\n",
       "      <th>legal_options</th>\n",
       "      <th>...</th>\n",
       "      <th>payment</th>\n",
       "      <th>tariff_options</th>\n",
       "      <th>panoramas</th>\n",
       "      <th>agent_phone</th>\n",
       "      <th>company_name</th>\n",
       "      <th>agent_info</th>\n",
       "      <th>agent_name</th>\n",
       "      <th>is_agent</th>\n",
       "      <th>city_name</th>\n",
       "      <th>agent_id</th>\n",
       "    </tr>\n",
       "  </thead>\n",
       "  <tbody>\n",
       "    <tr>\n",
       "      <th>9</th>\n",
       "      <td>1228946555</td>\n",
       "      <td>{'locality': {'guid': '980a910c-969a-4871-9c3b...</td>\n",
       "      <td>living</td>\n",
       "      <td>rent</td>\n",
       "      <td>{'status': 'discount_error'}</td>\n",
       "      <td>0</td>\n",
       "      <td>{'floors': 4}</td>\n",
       "      <td>1228946555</td>\n",
       "      <td>None</td>\n",
       "      <td>{'without_evaluation': False, 'approve': False}</td>\n",
       "      <td>...</td>\n",
       "      <td>NaN</td>\n",
       "      <td>NaN</td>\n",
       "      <td>NaN</td>\n",
       "      <td>+7 938 *** ** 73</td>\n",
       "      <td>ИП Терехова Алла Георгиевна</td>\n",
       "      <td>(Любовь Гришина, +7 938 *** ** 73, False)</td>\n",
       "      <td>Любовь Гришина</td>\n",
       "      <td>False</td>\n",
       "      <td>Сочи</td>\n",
       "      <td>NaN</td>\n",
       "    </tr>\n",
       "    <tr>\n",
       "      <th>23</th>\n",
       "      <td>1339262962</td>\n",
       "      <td>{'display_name': 'Россия, Краснодарский край, ...</td>\n",
       "      <td>living</td>\n",
       "      <td>rent</td>\n",
       "      <td>{'status': 'discount_error'}</td>\n",
       "      <td>0</td>\n",
       "      <td>{'lifts_passenger': 0, 'floors': 1, 'has_garba...</td>\n",
       "      <td>1339262962</td>\n",
       "      <td>None</td>\n",
       "      <td>{'approve': False, 'without_evaluation': False}</td>\n",
       "      <td>...</td>\n",
       "      <td>NaN</td>\n",
       "      <td>NaN</td>\n",
       "      <td>NaN</td>\n",
       "      <td>+7 938 *** ** 14</td>\n",
       "      <td>None</td>\n",
       "      <td>(Татьяна, +7 938 *** ** 14, False)</td>\n",
       "      <td>Татьяна</td>\n",
       "      <td>False</td>\n",
       "      <td>Сочи</td>\n",
       "      <td>NaN</td>\n",
       "    </tr>\n",
       "    <tr>\n",
       "      <th>39</th>\n",
       "      <td>1229000115</td>\n",
       "      <td>{'guid': '66ecf70b-0174-4aea-b9ec-00a8b796c9d7...</td>\n",
       "      <td>living</td>\n",
       "      <td>rent</td>\n",
       "      <td>{'status': 'discount_error'}</td>\n",
       "      <td>0</td>\n",
       "      <td>{'floors': 3, 'wall_type': {'display_name': 'К...</td>\n",
       "      <td>1229000115</td>\n",
       "      <td>None</td>\n",
       "      <td>{'approve': False, 'without_evaluation': False}</td>\n",
       "      <td>...</td>\n",
       "      <td>NaN</td>\n",
       "      <td>NaN</td>\n",
       "      <td>NaN</td>\n",
       "      <td>+7 938 *** ** 73</td>\n",
       "      <td>ИП Терехова Алла Георгиевна</td>\n",
       "      <td>(Любовь Гришина, +7 938 *** ** 73, False)</td>\n",
       "      <td>Любовь Гришина</td>\n",
       "      <td>False</td>\n",
       "      <td>Сочи</td>\n",
       "      <td>NaN</td>\n",
       "    </tr>\n",
       "    <tr>\n",
       "      <th>46</th>\n",
       "      <td>1247696704</td>\n",
       "      <td>{'kind': 'house', 'guid': '675a7cf8-9626-4cef-...</td>\n",
       "      <td>living</td>\n",
       "      <td>rent</td>\n",
       "      <td>{'status': 'discount_error'}</td>\n",
       "      <td>0</td>\n",
       "      <td>{'floors': 4}</td>\n",
       "      <td>1247696704</td>\n",
       "      <td>None</td>\n",
       "      <td>{'approve': False, 'without_evaluation': False}</td>\n",
       "      <td>...</td>\n",
       "      <td>NaN</td>\n",
       "      <td>NaN</td>\n",
       "      <td>NaN</td>\n",
       "      <td>+7 938 *** ** 73</td>\n",
       "      <td>ИП Терехова Алла Георгиевна</td>\n",
       "      <td>(Любовь Гришина, +7 938 *** ** 73, False)</td>\n",
       "      <td>Любовь Гришина</td>\n",
       "      <td>False</td>\n",
       "      <td>Сочи</td>\n",
       "      <td>NaN</td>\n",
       "    </tr>\n",
       "    <tr>\n",
       "      <th>59</th>\n",
       "      <td>1228946554</td>\n",
       "      <td>{'guid': 'a14ac40d-976c-4ce9-a043-6f84b188499c...</td>\n",
       "      <td>living</td>\n",
       "      <td>rent</td>\n",
       "      <td>{'status': 'discount_error'}</td>\n",
       "      <td>0</td>\n",
       "      <td>{'floors': 12, 'lifts_passenger': 1}</td>\n",
       "      <td>1228946554</td>\n",
       "      <td>None</td>\n",
       "      <td>{'approve': False, 'without_evaluation': False}</td>\n",
       "      <td>...</td>\n",
       "      <td>NaN</td>\n",
       "      <td>NaN</td>\n",
       "      <td>NaN</td>\n",
       "      <td>+7 938 *** ** 73</td>\n",
       "      <td>ИП Терехова Алла Георгиевна</td>\n",
       "      <td>(Любовь Гришина, +7 938 *** ** 73, False)</td>\n",
       "      <td>Любовь Гришина</td>\n",
       "      <td>False</td>\n",
       "      <td>Сочи</td>\n",
       "      <td>NaN</td>\n",
       "    </tr>\n",
       "  </tbody>\n",
       "</table>\n",
       "<p>5 rows × 36 columns</p>\n",
       "</div>"
      ],
      "text/plain": [
       "           _id                                            address category  \\\n",
       "9   1228946555  {'locality': {'guid': '980a910c-969a-4871-9c3b...   living   \n",
       "23  1339262962  {'display_name': 'Россия, Краснодарский край, ...   living   \n",
       "39  1229000115  {'guid': '66ecf70b-0174-4aea-b9ec-00a8b796c9d7...   living   \n",
       "46  1247696704  {'kind': 'house', 'guid': '675a7cf8-9626-4cef-...   living   \n",
       "59  1228946554  {'guid': 'a14ac40d-976c-4ce9-a043-6f84b188499c...   living   \n",
       "\n",
       "   deal_type               discount_status  duplicates_offer_count  \\\n",
       "9       rent  {'status': 'discount_error'}                       0   \n",
       "23      rent  {'status': 'discount_error'}                       0   \n",
       "39      rent  {'status': 'discount_error'}                       0   \n",
       "46      rent  {'status': 'discount_error'}                       0   \n",
       "59      rent  {'status': 'discount_error'}                       0   \n",
       "\n",
       "                                                house          id image_paths  \\\n",
       "9                                       {'floors': 4}  1228946555        None   \n",
       "23  {'lifts_passenger': 0, 'floors': 1, 'has_garba...  1339262962        None   \n",
       "39  {'floors': 3, 'wall_type': {'display_name': 'К...  1229000115        None   \n",
       "46                                      {'floors': 4}  1247696704        None   \n",
       "59               {'floors': 12, 'lifts_passenger': 1}  1228946554        None   \n",
       "\n",
       "                                      legal_options  ... payment  \\\n",
       "9   {'without_evaluation': False, 'approve': False}  ...     NaN   \n",
       "23  {'approve': False, 'without_evaluation': False}  ...     NaN   \n",
       "39  {'approve': False, 'without_evaluation': False}  ...     NaN   \n",
       "46  {'approve': False, 'without_evaluation': False}  ...     NaN   \n",
       "59  {'approve': False, 'without_evaluation': False}  ...     NaN   \n",
       "\n",
       "   tariff_options panoramas       agent_phone                 company_name  \\\n",
       "9             NaN       NaN  +7 938 *** ** 73  ИП Терехова Алла Георгиевна   \n",
       "23            NaN       NaN  +7 938 *** ** 14                         None   \n",
       "39            NaN       NaN  +7 938 *** ** 73  ИП Терехова Алла Георгиевна   \n",
       "46            NaN       NaN  +7 938 *** ** 73  ИП Терехова Алла Георгиевна   \n",
       "59            NaN       NaN  +7 938 *** ** 73  ИП Терехова Алла Георгиевна   \n",
       "\n",
       "                                   agent_info      agent_name is_agent  \\\n",
       "9   (Любовь Гришина, +7 938 *** ** 73, False)  Любовь Гришина    False   \n",
       "23         (Татьяна, +7 938 *** ** 14, False)         Татьяна    False   \n",
       "39  (Любовь Гришина, +7 938 *** ** 73, False)  Любовь Гришина    False   \n",
       "46  (Любовь Гришина, +7 938 *** ** 73, False)  Любовь Гришина    False   \n",
       "59  (Любовь Гришина, +7 938 *** ** 73, False)  Любовь Гришина    False   \n",
       "\n",
       "   city_name  agent_id  \n",
       "9       Сочи       NaN  \n",
       "23      Сочи       NaN  \n",
       "39      Сочи       NaN  \n",
       "46      Сочи       NaN  \n",
       "59      Сочи       NaN  \n",
       "\n",
       "[5 rows x 36 columns]"
      ]
     },
     "execution_count": 109,
     "metadata": {},
     "output_type": "execute_result"
    }
   ],
   "source": [
    "df[df['agent_id'].isna()].head()"
   ]
  },
  {
   "cell_type": "code",
   "execution_count": 111,
   "metadata": {
    "scrolled": true
   },
   "outputs": [
    {
     "data": {
      "text/plain": [
       "False    348939\n",
       "True     140174\n",
       "Name: is_agent, dtype: int64"
      ]
     },
     "execution_count": 111,
     "metadata": {},
     "output_type": "execute_result"
    }
   ],
   "source": [
    "(df['is_agent'] == False).value_counts()"
   ]
  },
  {
   "cell_type": "code",
   "execution_count": 112,
   "metadata": {
    "scrolled": true
   },
   "outputs": [
    {
     "data": {
      "text/html": [
       "<div>\n",
       "<style scoped>\n",
       "    .dataframe tbody tr th:only-of-type {\n",
       "        vertical-align: middle;\n",
       "    }\n",
       "\n",
       "    .dataframe tbody tr th {\n",
       "        vertical-align: top;\n",
       "    }\n",
       "\n",
       "    .dataframe thead th {\n",
       "        text-align: right;\n",
       "    }\n",
       "</style>\n",
       "<table border=\"1\" class=\"dataframe\">\n",
       "  <thead>\n",
       "    <tr style=\"text-align: right;\">\n",
       "      <th></th>\n",
       "      <th>_id</th>\n",
       "      <th>address</th>\n",
       "      <th>category</th>\n",
       "      <th>deal_type</th>\n",
       "      <th>discount_status</th>\n",
       "      <th>duplicates_offer_count</th>\n",
       "      <th>house</th>\n",
       "      <th>id</th>\n",
       "      <th>image_paths</th>\n",
       "      <th>legal_options</th>\n",
       "      <th>...</th>\n",
       "      <th>payment</th>\n",
       "      <th>tariff_options</th>\n",
       "      <th>panoramas</th>\n",
       "      <th>agent_phone</th>\n",
       "      <th>company_name</th>\n",
       "      <th>agent_info</th>\n",
       "      <th>agent_name</th>\n",
       "      <th>is_agent</th>\n",
       "      <th>city_name</th>\n",
       "      <th>agent_id</th>\n",
       "    </tr>\n",
       "  </thead>\n",
       "  <tbody>\n",
       "    <tr>\n",
       "      <th>0</th>\n",
       "      <td>1311290213</td>\n",
       "      <td>{'display_name': 'Россия, Краснодарский край, ...</td>\n",
       "      <td>living</td>\n",
       "      <td>rent</td>\n",
       "      <td>{'status': 'discount_error', 'value': 0.3}</td>\n",
       "      <td>0</td>\n",
       "      <td>{'wall_type': {'display_name': 'Монолитный'}, ...</td>\n",
       "      <td>1311290213</td>\n",
       "      <td>None</td>\n",
       "      <td>{'approve': False, 'without_evaluation': False...</td>\n",
       "      <td>...</td>\n",
       "      <td>NaN</td>\n",
       "      <td>NaN</td>\n",
       "      <td>NaN</td>\n",
       "      <td>+7 938 *** ** 44</td>\n",
       "      <td>None</td>\n",
       "      <td>(Игорь, +7 938 *** ** 44, False)</td>\n",
       "      <td>Игорь</td>\n",
       "      <td>False</td>\n",
       "      <td>Сочи</td>\n",
       "      <td>13373998.0</td>\n",
       "    </tr>\n",
       "    <tr>\n",
       "      <th>1</th>\n",
       "      <td>1307021676</td>\n",
       "      <td>{'display_name': 'Россия, Краснодарский край, ...</td>\n",
       "      <td>living</td>\n",
       "      <td>rent</td>\n",
       "      <td>{'status': 'cad_statement_ordered_no_discount'...</td>\n",
       "      <td>0</td>\n",
       "      <td>{'parking': [{'display_name': 'Во дворе'}], 'b...</td>\n",
       "      <td>1307021676</td>\n",
       "      <td>None</td>\n",
       "      <td>{'is_individual': True, 'approve': False, 'wit...</td>\n",
       "      <td>...</td>\n",
       "      <td>NaN</td>\n",
       "      <td>NaN</td>\n",
       "      <td>NaN</td>\n",
       "      <td>+7 918 *** ** 99</td>\n",
       "      <td>None</td>\n",
       "      <td>(Инесса, +7 918 *** ** 99, False)</td>\n",
       "      <td>Инесса</td>\n",
       "      <td>False</td>\n",
       "      <td>Сочи</td>\n",
       "      <td>13181236.0</td>\n",
       "    </tr>\n",
       "    <tr>\n",
       "      <th>2</th>\n",
       "      <td>1315756153</td>\n",
       "      <td>{'kind': 'house', 'position': {'lon': 39.70031...</td>\n",
       "      <td>living</td>\n",
       "      <td>rent</td>\n",
       "      <td>{'value': 0.3, 'status': 'discount_error'}</td>\n",
       "      <td>0</td>\n",
       "      <td>{'ceiling_height': 2.7, 'floors': 3, 'lifts_fr...</td>\n",
       "      <td>1315756153</td>\n",
       "      <td>None</td>\n",
       "      <td>{'is_individual': True, 'without_evaluation': ...</td>\n",
       "      <td>...</td>\n",
       "      <td>NaN</td>\n",
       "      <td>NaN</td>\n",
       "      <td>NaN</td>\n",
       "      <td>+7 918 *** ** 53</td>\n",
       "      <td>None</td>\n",
       "      <td>(Олеся, +7 918 *** ** 53, False)</td>\n",
       "      <td>Олеся</td>\n",
       "      <td>False</td>\n",
       "      <td>Сочи</td>\n",
       "      <td>12380086.0</td>\n",
       "    </tr>\n",
       "    <tr>\n",
       "      <th>5</th>\n",
       "      <td>1329266260</td>\n",
       "      <td>{'display_name': 'Россия, Краснодарский край, ...</td>\n",
       "      <td>living</td>\n",
       "      <td>rent</td>\n",
       "      <td>{'value': 0.3, 'status': 'discount_error'}</td>\n",
       "      <td>0</td>\n",
       "      <td>{'build_year': 2017, 'lifts_freight': 0, 'floo...</td>\n",
       "      <td>1329266260</td>\n",
       "      <td>None</td>\n",
       "      <td>{'without_evaluation': False, 'approve': False...</td>\n",
       "      <td>...</td>\n",
       "      <td>NaN</td>\n",
       "      <td>NaN</td>\n",
       "      <td>NaN</td>\n",
       "      <td>+7 903 *** ** 21</td>\n",
       "      <td>None</td>\n",
       "      <td>(Наталья, +7 903 *** ** 21, False)</td>\n",
       "      <td>Наталья</td>\n",
       "      <td>False</td>\n",
       "      <td>Сочи</td>\n",
       "      <td>13786422.0</td>\n",
       "    </tr>\n",
       "    <tr>\n",
       "      <th>7</th>\n",
       "      <td>1321526576</td>\n",
       "      <td>{'display_name': 'Россия, Краснодарский край, ...</td>\n",
       "      <td>living</td>\n",
       "      <td>rent</td>\n",
       "      <td>{'status': 'cad_statement_ordered_no_discount'...</td>\n",
       "      <td>0</td>\n",
       "      <td>{'wall_type': {'display_name': 'Монолитный'}, ...</td>\n",
       "      <td>1321526576</td>\n",
       "      <td>None</td>\n",
       "      <td>{'approve': False, 'without_evaluation': False...</td>\n",
       "      <td>...</td>\n",
       "      <td>NaN</td>\n",
       "      <td>NaN</td>\n",
       "      <td>NaN</td>\n",
       "      <td>+7 999 *** ** 49</td>\n",
       "      <td>None</td>\n",
       "      <td>(Наталия, +7 999 *** ** 49, False)</td>\n",
       "      <td>Наталия</td>\n",
       "      <td>False</td>\n",
       "      <td>Сочи</td>\n",
       "      <td>11248582.0</td>\n",
       "    </tr>\n",
       "    <tr>\n",
       "      <th>...</th>\n",
       "      <td>...</td>\n",
       "      <td>...</td>\n",
       "      <td>...</td>\n",
       "      <td>...</td>\n",
       "      <td>...</td>\n",
       "      <td>...</td>\n",
       "      <td>...</td>\n",
       "      <td>...</td>\n",
       "      <td>...</td>\n",
       "      <td>...</td>\n",
       "      <td>...</td>\n",
       "      <td>...</td>\n",
       "      <td>...</td>\n",
       "      <td>...</td>\n",
       "      <td>...</td>\n",
       "      <td>...</td>\n",
       "      <td>...</td>\n",
       "      <td>...</td>\n",
       "      <td>...</td>\n",
       "      <td>...</td>\n",
       "      <td>...</td>\n",
       "    </tr>\n",
       "    <tr>\n",
       "      <th>489060</th>\n",
       "      <td>1389643327</td>\n",
       "      <td>{'kind': 'house', 'parent_id': 41537, 'guid': ...</td>\n",
       "      <td>living</td>\n",
       "      <td>sale</td>\n",
       "      <td>{'status': 'cold_period', 'value': 0.3}</td>\n",
       "      <td>0</td>\n",
       "      <td>{'parking': [{'display_name': 'Во дворе'}], 'l...</td>\n",
       "      <td>1389643327</td>\n",
       "      <td>None</td>\n",
       "      <td>{'sale_type': {'display_name': 'Свободная прод...</td>\n",
       "      <td>...</td>\n",
       "      <td>NaN</td>\n",
       "      <td>NaN</td>\n",
       "      <td>NaN</td>\n",
       "      <td>+7 931 *** ** 17</td>\n",
       "      <td>None</td>\n",
       "      <td>(Марина, +7 931 *** ** 17, False)</td>\n",
       "      <td>Марина</td>\n",
       "      <td>False</td>\n",
       "      <td>Санкт-Петербург</td>\n",
       "      <td>4706315.0</td>\n",
       "    </tr>\n",
       "    <tr>\n",
       "      <th>489071</th>\n",
       "      <td>68011930</td>\n",
       "      <td>{'guid': 'fcd7a2a8-8859-427b-83fa-6e4dce43a935...</td>\n",
       "      <td>NaN</td>\n",
       "      <td>sale</td>\n",
       "      <td>{'value': 0.3, 'status': 'discount_received'}</td>\n",
       "      <td>0</td>\n",
       "      <td>{'parking': [{'display_name': 'Во дворе'}], 'f...</td>\n",
       "      <td>68011930</td>\n",
       "      <td>None</td>\n",
       "      <td>{'residence_minors': False, 'without_evaluatio...</td>\n",
       "      <td>...</td>\n",
       "      <td>NaN</td>\n",
       "      <td>NaN</td>\n",
       "      <td>NaN</td>\n",
       "      <td>+7 921 *** ** 75</td>\n",
       "      <td>None</td>\n",
       "      <td>(Алексей, +7 921 *** ** 75, False)</td>\n",
       "      <td>Алексей</td>\n",
       "      <td>False</td>\n",
       "      <td>Санкт-Петербург</td>\n",
       "      <td>27600.0</td>\n",
       "    </tr>\n",
       "    <tr>\n",
       "      <th>489072</th>\n",
       "      <td>1389672765</td>\n",
       "      <td>{'id': 245883, 'subways': [{'time_on_foot': 12...</td>\n",
       "      <td>living</td>\n",
       "      <td>sale</td>\n",
       "      <td>{'status': 'discount_error', 'value': 0.3}</td>\n",
       "      <td>1</td>\n",
       "      <td>{'floors': 10, 'parking': [{'display_name': 'П...</td>\n",
       "      <td>1389672765</td>\n",
       "      <td>None</td>\n",
       "      <td>{'without_evaluation': False, 'approve': True,...</td>\n",
       "      <td>...</td>\n",
       "      <td>{'name': 'premium'}</td>\n",
       "      <td>{'big_card': True, 'name': 'top', 'pin_color':...</td>\n",
       "      <td>NaN</td>\n",
       "      <td>+7 911 *** ** 80</td>\n",
       "      <td>None</td>\n",
       "      <td>(Алексей, +7 911 *** ** 80, False)</td>\n",
       "      <td>Алексей</td>\n",
       "      <td>False</td>\n",
       "      <td>Санкт-Петербург</td>\n",
       "      <td>15590795.0</td>\n",
       "    </tr>\n",
       "    <tr>\n",
       "      <th>489073</th>\n",
       "      <td>1389691756</td>\n",
       "      <td>{'id': 245883, 'subways': [{'time_on_foot': 12...</td>\n",
       "      <td>living</td>\n",
       "      <td>sale</td>\n",
       "      <td>{'status': 'cold_period', 'value': 0.3}</td>\n",
       "      <td>1</td>\n",
       "      <td>{'floors': 8, 'has_garbage_disposer': False, '...</td>\n",
       "      <td>1389691756</td>\n",
       "      <td>None</td>\n",
       "      <td>{'without_evaluation': False, 'approve': True}</td>\n",
       "      <td>...</td>\n",
       "      <td>{'name': 'express'}</td>\n",
       "      <td>{'name': 'express', 'display_name': 'Экспресс'...</td>\n",
       "      <td>NaN</td>\n",
       "      <td>+7 921 *** ** 21</td>\n",
       "      <td>None</td>\n",
       "      <td>(Алексей, +7 921 *** ** 21, False)</td>\n",
       "      <td>Алексей</td>\n",
       "      <td>False</td>\n",
       "      <td>Санкт-Петербург</td>\n",
       "      <td>15590795.0</td>\n",
       "    </tr>\n",
       "    <tr>\n",
       "      <th>489078</th>\n",
       "      <td>1386012520</td>\n",
       "      <td>{'name': 'улица Олега Кошевого, 27А', 'localit...</td>\n",
       "      <td>living</td>\n",
       "      <td>sale</td>\n",
       "      <td>{'status': 'cold_period', 'value': 0.3}</td>\n",
       "      <td>0</td>\n",
       "      <td>{'lifts_passenger': 0, 'lifts_freight': 0, 'bu...</td>\n",
       "      <td>1386012520</td>\n",
       "      <td>None</td>\n",
       "      <td>{'approve': True, 'is_individual': True, 'sale...</td>\n",
       "      <td>...</td>\n",
       "      <td>NaN</td>\n",
       "      <td>NaN</td>\n",
       "      <td>NaN</td>\n",
       "      <td>+7 914 *** ** 27</td>\n",
       "      <td>None</td>\n",
       "      <td>(Евгения, +7 914 *** ** 27, False)</td>\n",
       "      <td>Евгения</td>\n",
       "      <td>False</td>\n",
       "      <td>Владивосток</td>\n",
       "      <td>1368953.0</td>\n",
       "    </tr>\n",
       "  </tbody>\n",
       "</table>\n",
       "<p>28205 rows × 36 columns</p>\n",
       "</div>"
      ],
      "text/plain": [
       "               _id                                            address  \\\n",
       "0       1311290213  {'display_name': 'Россия, Краснодарский край, ...   \n",
       "1       1307021676  {'display_name': 'Россия, Краснодарский край, ...   \n",
       "2       1315756153  {'kind': 'house', 'position': {'lon': 39.70031...   \n",
       "5       1329266260  {'display_name': 'Россия, Краснодарский край, ...   \n",
       "7       1321526576  {'display_name': 'Россия, Краснодарский край, ...   \n",
       "...            ...                                                ...   \n",
       "489060  1389643327  {'kind': 'house', 'parent_id': 41537, 'guid': ...   \n",
       "489071    68011930  {'guid': 'fcd7a2a8-8859-427b-83fa-6e4dce43a935...   \n",
       "489072  1389672765  {'id': 245883, 'subways': [{'time_on_foot': 12...   \n",
       "489073  1389691756  {'id': 245883, 'subways': [{'time_on_foot': 12...   \n",
       "489078  1386012520  {'name': 'улица Олега Кошевого, 27А', 'localit...   \n",
       "\n",
       "       category deal_type                                    discount_status  \\\n",
       "0        living      rent         {'status': 'discount_error', 'value': 0.3}   \n",
       "1        living      rent  {'status': 'cad_statement_ordered_no_discount'...   \n",
       "2        living      rent         {'value': 0.3, 'status': 'discount_error'}   \n",
       "5        living      rent         {'value': 0.3, 'status': 'discount_error'}   \n",
       "7        living      rent  {'status': 'cad_statement_ordered_no_discount'...   \n",
       "...         ...       ...                                                ...   \n",
       "489060   living      sale            {'status': 'cold_period', 'value': 0.3}   \n",
       "489071      NaN      sale      {'value': 0.3, 'status': 'discount_received'}   \n",
       "489072   living      sale         {'status': 'discount_error', 'value': 0.3}   \n",
       "489073   living      sale            {'status': 'cold_period', 'value': 0.3}   \n",
       "489078   living      sale            {'status': 'cold_period', 'value': 0.3}   \n",
       "\n",
       "        duplicates_offer_count  \\\n",
       "0                            0   \n",
       "1                            0   \n",
       "2                            0   \n",
       "5                            0   \n",
       "7                            0   \n",
       "...                        ...   \n",
       "489060                       0   \n",
       "489071                       0   \n",
       "489072                       1   \n",
       "489073                       1   \n",
       "489078                       0   \n",
       "\n",
       "                                                    house          id  \\\n",
       "0       {'wall_type': {'display_name': 'Монолитный'}, ...  1311290213   \n",
       "1       {'parking': [{'display_name': 'Во дворе'}], 'b...  1307021676   \n",
       "2       {'ceiling_height': 2.7, 'floors': 3, 'lifts_fr...  1315756153   \n",
       "5       {'build_year': 2017, 'lifts_freight': 0, 'floo...  1329266260   \n",
       "7       {'wall_type': {'display_name': 'Монолитный'}, ...  1321526576   \n",
       "...                                                   ...         ...   \n",
       "489060  {'parking': [{'display_name': 'Во дворе'}], 'l...  1389643327   \n",
       "489071  {'parking': [{'display_name': 'Во дворе'}], 'f...    68011930   \n",
       "489072  {'floors': 10, 'parking': [{'display_name': 'П...  1389672765   \n",
       "489073  {'floors': 8, 'has_garbage_disposer': False, '...  1389691756   \n",
       "489078  {'lifts_passenger': 0, 'lifts_freight': 0, 'bu...  1386012520   \n",
       "\n",
       "       image_paths                                      legal_options  ...  \\\n",
       "0             None  {'approve': False, 'without_evaluation': False...  ...   \n",
       "1             None  {'is_individual': True, 'approve': False, 'wit...  ...   \n",
       "2             None  {'is_individual': True, 'without_evaluation': ...  ...   \n",
       "5             None  {'without_evaluation': False, 'approve': False...  ...   \n",
       "7             None  {'approve': False, 'without_evaluation': False...  ...   \n",
       "...            ...                                                ...  ...   \n",
       "489060        None  {'sale_type': {'display_name': 'Свободная прод...  ...   \n",
       "489071        None  {'residence_minors': False, 'without_evaluatio...  ...   \n",
       "489072        None  {'without_evaluation': False, 'approve': True,...  ...   \n",
       "489073        None     {'without_evaluation': False, 'approve': True}  ...   \n",
       "489078        None  {'approve': True, 'is_individual': True, 'sale...  ...   \n",
       "\n",
       "                    payment  \\\n",
       "0                       NaN   \n",
       "1                       NaN   \n",
       "2                       NaN   \n",
       "5                       NaN   \n",
       "7                       NaN   \n",
       "...                     ...   \n",
       "489060                  NaN   \n",
       "489071                  NaN   \n",
       "489072  {'name': 'premium'}   \n",
       "489073  {'name': 'express'}   \n",
       "489078                  NaN   \n",
       "\n",
       "                                           tariff_options panoramas  \\\n",
       "0                                                     NaN       NaN   \n",
       "1                                                     NaN       NaN   \n",
       "2                                                     NaN       NaN   \n",
       "5                                                     NaN       NaN   \n",
       "7                                                     NaN       NaN   \n",
       "...                                                   ...       ...   \n",
       "489060                                                NaN       NaN   \n",
       "489071                                                NaN       NaN   \n",
       "489072  {'big_card': True, 'name': 'top', 'pin_color':...       NaN   \n",
       "489073  {'name': 'express', 'display_name': 'Экспресс'...       NaN   \n",
       "489078                                                NaN       NaN   \n",
       "\n",
       "             agent_phone company_name                          agent_info  \\\n",
       "0       +7 938 *** ** 44         None    (Игорь, +7 938 *** ** 44, False)   \n",
       "1       +7 918 *** ** 99         None   (Инесса, +7 918 *** ** 99, False)   \n",
       "2       +7 918 *** ** 53         None    (Олеся, +7 918 *** ** 53, False)   \n",
       "5       +7 903 *** ** 21         None  (Наталья, +7 903 *** ** 21, False)   \n",
       "7       +7 999 *** ** 49         None  (Наталия, +7 999 *** ** 49, False)   \n",
       "...                  ...          ...                                 ...   \n",
       "489060  +7 931 *** ** 17         None   (Марина, +7 931 *** ** 17, False)   \n",
       "489071  +7 921 *** ** 75         None  (Алексей, +7 921 *** ** 75, False)   \n",
       "489072  +7 911 *** ** 80         None  (Алексей, +7 911 *** ** 80, False)   \n",
       "489073  +7 921 *** ** 21         None  (Алексей, +7 921 *** ** 21, False)   \n",
       "489078  +7 914 *** ** 27         None  (Евгения, +7 914 *** ** 27, False)   \n",
       "\n",
       "       agent_name is_agent        city_name    agent_id  \n",
       "0           Игорь    False             Сочи  13373998.0  \n",
       "1          Инесса    False             Сочи  13181236.0  \n",
       "2           Олеся    False             Сочи  12380086.0  \n",
       "5         Наталья    False             Сочи  13786422.0  \n",
       "7         Наталия    False             Сочи  11248582.0  \n",
       "...           ...      ...              ...         ...  \n",
       "489060     Марина    False  Санкт-Петербург   4706315.0  \n",
       "489071    Алексей    False  Санкт-Петербург     27600.0  \n",
       "489072    Алексей    False  Санкт-Петербург  15590795.0  \n",
       "489073    Алексей    False  Санкт-Петербург  15590795.0  \n",
       "489078    Евгения    False      Владивосток   1368953.0  \n",
       "\n",
       "[28205 rows x 36 columns]"
      ]
     },
     "execution_count": 112,
     "metadata": {},
     "output_type": "execute_result"
    }
   ],
   "source": [
    "df[(df['is_agent'] == False) & (df['agent_id'].notna())]"
   ]
  },
  {
   "cell_type": "code",
   "execution_count": 160,
   "metadata": {},
   "outputs": [],
   "source": [
    "def extract_object_info(object_info):\n",
    "    area =  object_info.get('area', None)\n",
    "    living_area = object_info.get('living_area', None)\n",
    "    room_area = object_info.get('room_area', None)\n",
    "    return area, living_area, room_area"
   ]
  },
  {
   "cell_type": "code",
   "execution_count": 161,
   "metadata": {},
   "outputs": [
    {
     "data": {
      "text/html": [
       "<div>\n",
       "<style scoped>\n",
       "    .dataframe tbody tr th:only-of-type {\n",
       "        vertical-align: middle;\n",
       "    }\n",
       "\n",
       "    .dataframe tbody tr th {\n",
       "        vertical-align: top;\n",
       "    }\n",
       "\n",
       "    .dataframe thead th {\n",
       "        text-align: right;\n",
       "    }\n",
       "</style>\n",
       "<table border=\"1\" class=\"dataframe\">\n",
       "  <thead>\n",
       "    <tr style=\"text-align: right;\">\n",
       "      <th></th>\n",
       "      <th>0</th>\n",
       "      <th>1</th>\n",
       "      <th>2</th>\n",
       "    </tr>\n",
       "  </thead>\n",
       "  <tbody>\n",
       "    <tr>\n",
       "      <th>260094</th>\n",
       "      <td>19.4</td>\n",
       "      <td>NaN</td>\n",
       "      <td>19.4</td>\n",
       "    </tr>\n",
       "    <tr>\n",
       "      <th>379009</th>\n",
       "      <td>35.0</td>\n",
       "      <td>19.5</td>\n",
       "      <td>NaN</td>\n",
       "    </tr>\n",
       "    <tr>\n",
       "      <th>303122</th>\n",
       "      <td>34.0</td>\n",
       "      <td>17.0</td>\n",
       "      <td>NaN</td>\n",
       "    </tr>\n",
       "    <tr>\n",
       "      <th>12623</th>\n",
       "      <td>644.3</td>\n",
       "      <td>NaN</td>\n",
       "      <td>NaN</td>\n",
       "    </tr>\n",
       "    <tr>\n",
       "      <th>340619</th>\n",
       "      <td>52.3</td>\n",
       "      <td>32.0</td>\n",
       "      <td>NaN</td>\n",
       "    </tr>\n",
       "    <tr>\n",
       "      <th>...</th>\n",
       "      <td>...</td>\n",
       "      <td>...</td>\n",
       "      <td>...</td>\n",
       "    </tr>\n",
       "    <tr>\n",
       "      <th>8860</th>\n",
       "      <td>36.5</td>\n",
       "      <td>NaN</td>\n",
       "      <td>NaN</td>\n",
       "    </tr>\n",
       "    <tr>\n",
       "      <th>255207</th>\n",
       "      <td>36.7</td>\n",
       "      <td>20.0</td>\n",
       "      <td>NaN</td>\n",
       "    </tr>\n",
       "    <tr>\n",
       "      <th>314402</th>\n",
       "      <td>37.9</td>\n",
       "      <td>NaN</td>\n",
       "      <td>NaN</td>\n",
       "    </tr>\n",
       "    <tr>\n",
       "      <th>428221</th>\n",
       "      <td>NaN</td>\n",
       "      <td>NaN</td>\n",
       "      <td>NaN</td>\n",
       "    </tr>\n",
       "    <tr>\n",
       "      <th>431665</th>\n",
       "      <td>90.7</td>\n",
       "      <td>52.5</td>\n",
       "      <td>NaN</td>\n",
       "    </tr>\n",
       "  </tbody>\n",
       "</table>\n",
       "<p>1000 rows × 3 columns</p>\n",
       "</div>"
      ],
      "text/plain": [
       "            0     1     2\n",
       "260094   19.4   NaN  19.4\n",
       "379009   35.0  19.5   NaN\n",
       "303122   34.0  17.0   NaN\n",
       "12623   644.3   NaN   NaN\n",
       "340619   52.3  32.0   NaN\n",
       "...       ...   ...   ...\n",
       "8860     36.5   NaN   NaN\n",
       "255207   36.7  20.0   NaN\n",
       "314402   37.9   NaN   NaN\n",
       "428221    NaN   NaN   NaN\n",
       "431665   90.7  52.5   NaN\n",
       "\n",
       "[1000 rows x 3 columns]"
      ]
     },
     "execution_count": 161,
     "metadata": {},
     "output_type": "execute_result"
    }
   ],
   "source": [
    "df.sample(1000).object_info.apply(extract_object_info).apply(pd.Series)"
   ]
  },
  {
   "cell_type": "code",
   "execution_count": 162,
   "metadata": {},
   "outputs": [
    {
     "name": "stderr",
     "output_type": "stream",
     "text": [
      "C:\\Users\\daper\\Anaconda3\\lib\\site-packages\\ipykernel_launcher.py:1: SettingWithCopyWarning: \n",
      "A value is trying to be set on a copy of a slice from a DataFrame.\n",
      "Try using .loc[row_indexer,col_indexer] = value instead\n",
      "\n",
      "See the caveats in the documentation: https://pandas.pydata.org/pandas-docs/stable/user_guide/indexing.html#returning-a-view-versus-a-copy\n",
      "  \"\"\"Entry point for launching an IPython kernel.\n",
      "C:\\Users\\daper\\Anaconda3\\lib\\site-packages\\ipykernel_launcher.py:2: SettingWithCopyWarning: \n",
      "A value is trying to be set on a copy of a slice from a DataFrame.\n",
      "Try using .loc[row_indexer,col_indexer] = value instead\n",
      "\n",
      "See the caveats in the documentation: https://pandas.pydata.org/pandas-docs/stable/user_guide/indexing.html#returning-a-view-versus-a-copy\n",
      "  \n",
      "C:\\Users\\daper\\Anaconda3\\lib\\site-packages\\ipykernel_launcher.py:3: SettingWithCopyWarning: \n",
      "A value is trying to be set on a copy of a slice from a DataFrame.\n",
      "Try using .loc[row_indexer,col_indexer] = value instead\n",
      "\n",
      "See the caveats in the documentation: https://pandas.pydata.org/pandas-docs/stable/user_guide/indexing.html#returning-a-view-versus-a-copy\n",
      "  This is separate from the ipykernel package so we can avoid doing imports until\n",
      "C:\\Users\\daper\\Anaconda3\\lib\\site-packages\\pandas\\core\\frame.py:2963: SettingWithCopyWarning: \n",
      "A value is trying to be set on a copy of a slice from a DataFrame.\n",
      "Try using .loc[row_indexer,col_indexer] = value instead\n",
      "\n",
      "See the caveats in the documentation: https://pandas.pydata.org/pandas-docs/stable/user_guide/indexing.html#returning-a-view-versus-a-copy\n",
      "  self[k1] = value[k2]\n"
     ]
    }
   ],
   "source": [
    "df['area'] = None\n",
    "df['living_area'] = None\n",
    "df['room_area'] = None\n",
    "\n",
    "df[['area', 'living_area', 'room_area']] = df.object_info.apply(extract_object_info).apply(pd.Series)"
   ]
  },
  {
   "cell_type": "code",
   "execution_count": 167,
   "metadata": {},
   "outputs": [],
   "source": [
    "df_offer_type_room = df[df.offer_type == 'room']"
   ]
  },
  {
   "cell_type": "code",
   "execution_count": 164,
   "metadata": {},
   "outputs": [
    {
     "data": {
      "text/plain": [
       "flat          414005\n",
       "house          39473\n",
       "lot            19326\n",
       "room           12597\n",
       "townhouse       3178\n",
       "house_part       532\n",
       "Name: offer_type, dtype: int64"
      ]
     },
     "execution_count": 164,
     "metadata": {},
     "output_type": "execute_result"
    }
   ],
   "source": [
    "df.offer_type.value_counts()"
   ]
  },
  {
   "cell_type": "code",
   "execution_count": 168,
   "metadata": {
    "scrolled": false
   },
   "outputs": [
    {
     "data": {
      "text/plain": [
       "area   living_area  room_area\n",
       "8.0    8.0          8.0           1\n",
       "100.1  13.8         13.8          1\n",
       "100.0  80.0         17.4          1\n",
       "                    14.0          1\n",
       "                    12.0          1\n",
       "                                 ..\n",
       "45.0   15.0         15.0         21\n",
       "60.0   14.0         14.0         21\n",
       "       15.0         15.0         23\n",
       "48.0   12.0         12.0         24\n",
       "60.0   12.0         12.0         26\n",
       "Name: offer_type, Length: 6693, dtype: int64"
      ]
     },
     "execution_count": 168,
     "metadata": {},
     "output_type": "execute_result"
    }
   ],
   "source": [
    "df_offer_type_room.groupby(['area', 'living_area', 'room_area'])['offer_type'].count().sort_values()"
   ]
  },
  {
   "cell_type": "code",
   "execution_count": 148,
   "metadata": {},
   "outputs": [
    {
     "data": {
      "text/plain": [
       "True    489111\n",
       "Name: object_info, dtype: int64"
      ]
     },
     "execution_count": 148,
     "metadata": {},
     "output_type": "execute_result"
    }
   ],
   "source": [
    "df.object_info.notna().value_counts()"
   ]
  },
  {
   "cell_type": "code",
   "execution_count": 145,
   "metadata": {},
   "outputs": [
    {
     "data": {
      "text/html": [
       "<div>\n",
       "<style scoped>\n",
       "    .dataframe tbody tr th:only-of-type {\n",
       "        vertical-align: middle;\n",
       "    }\n",
       "\n",
       "    .dataframe tbody tr th {\n",
       "        vertical-align: top;\n",
       "    }\n",
       "\n",
       "    .dataframe thead th {\n",
       "        text-align: right;\n",
       "    }\n",
       "</style>\n",
       "<table border=\"1\" class=\"dataframe\">\n",
       "  <thead>\n",
       "    <tr style=\"text-align: right;\">\n",
       "      <th></th>\n",
       "      <th>_id</th>\n",
       "      <th>address</th>\n",
       "      <th>category</th>\n",
       "      <th>deal_type</th>\n",
       "      <th>discount_status</th>\n",
       "      <th>duplicates_offer_count</th>\n",
       "      <th>house</th>\n",
       "      <th>id</th>\n",
       "      <th>image_paths</th>\n",
       "      <th>legal_options</th>\n",
       "      <th>...</th>\n",
       "      <th>panoramas</th>\n",
       "      <th>agent_phone</th>\n",
       "      <th>company_name</th>\n",
       "      <th>agent_info</th>\n",
       "      <th>agent_name</th>\n",
       "      <th>is_agent</th>\n",
       "      <th>city_name</th>\n",
       "      <th>agent_id</th>\n",
       "      <th>living_area</th>\n",
       "      <th>room_area</th>\n",
       "    </tr>\n",
       "  </thead>\n",
       "  <tbody>\n",
       "    <tr>\n",
       "      <th>105199</th>\n",
       "      <td>1200557683</td>\n",
       "      <td>{'kind': 'street', 'position': {'lon': 37.3850...</td>\n",
       "      <td>living</td>\n",
       "      <td>sale</td>\n",
       "      <td>{'status': 'discount_error'}</td>\n",
       "      <td>0</td>\n",
       "      <td>NaN</td>\n",
       "      <td>1200557683</td>\n",
       "      <td>None</td>\n",
       "      <td>{'without_evaluation': False, 'approve': False}</td>\n",
       "      <td>...</td>\n",
       "      <td>NaN</td>\n",
       "      <td>+7 903 *** ** 41</td>\n",
       "      <td>Этажи Подольск</td>\n",
       "      <td>(Вера, +7 903 *** ** 41, False)</td>\n",
       "      <td>Вера</td>\n",
       "      <td>False</td>\n",
       "      <td>Москва</td>\n",
       "      <td>7949261.0</td>\n",
       "      <td>None</td>\n",
       "      <td>None</td>\n",
       "    </tr>\n",
       "    <tr>\n",
       "      <th>116910</th>\n",
       "      <td>1211593770</td>\n",
       "      <td>{'kind': 'house', 'position': {'lon': 37.06590...</td>\n",
       "      <td>living</td>\n",
       "      <td>sale</td>\n",
       "      <td>{'status': 'discount_error'}</td>\n",
       "      <td>0</td>\n",
       "      <td>NaN</td>\n",
       "      <td>1211593770</td>\n",
       "      <td>None</td>\n",
       "      <td>{'without_evaluation': False, 'approve': False}</td>\n",
       "      <td>...</td>\n",
       "      <td>NaN</td>\n",
       "      <td>+7 966 *** ** 44</td>\n",
       "      <td>ЭТАЖИ МОСКВА</td>\n",
       "      <td>(Сергей, +7 966 *** ** 44, False)</td>\n",
       "      <td>Сергей</td>\n",
       "      <td>False</td>\n",
       "      <td>садовое товарищество Лира-С</td>\n",
       "      <td>4191694.0</td>\n",
       "      <td>None</td>\n",
       "      <td>None</td>\n",
       "    </tr>\n",
       "  </tbody>\n",
       "</table>\n",
       "<p>2 rows × 38 columns</p>\n",
       "</div>"
      ],
      "text/plain": [
       "               _id                                            address  \\\n",
       "105199  1200557683  {'kind': 'street', 'position': {'lon': 37.3850...   \n",
       "116910  1211593770  {'kind': 'house', 'position': {'lon': 37.06590...   \n",
       "\n",
       "       category deal_type               discount_status  \\\n",
       "105199   living      sale  {'status': 'discount_error'}   \n",
       "116910   living      sale  {'status': 'discount_error'}   \n",
       "\n",
       "        duplicates_offer_count house          id image_paths  \\\n",
       "105199                       0   NaN  1200557683        None   \n",
       "116910                       0   NaN  1211593770        None   \n",
       "\n",
       "                                          legal_options  ... panoramas  \\\n",
       "105199  {'without_evaluation': False, 'approve': False}  ...       NaN   \n",
       "116910  {'without_evaluation': False, 'approve': False}  ...       NaN   \n",
       "\n",
       "             agent_phone    company_name                         agent_info  \\\n",
       "105199  +7 903 *** ** 41  Этажи Подольск    (Вера, +7 903 *** ** 41, False)   \n",
       "116910  +7 966 *** ** 44    ЭТАЖИ МОСКВА  (Сергей, +7 966 *** ** 44, False)   \n",
       "\n",
       "       agent_name is_agent                    city_name   agent_id  \\\n",
       "105199       Вера    False                       Москва  7949261.0   \n",
       "116910     Сергей    False  садовое товарищество Лира-С  4191694.0   \n",
       "\n",
       "       living_area  room_area  \n",
       "105199        None       None  \n",
       "116910        None       None  \n",
       "\n",
       "[2 rows x 38 columns]"
      ]
     },
     "execution_count": 145,
     "metadata": {},
     "output_type": "execute_result"
    }
   ],
   "source": [
    "df[df.object_info.isna()]"
   ]
  },
  {
   "cell_type": "code",
   "execution_count": 169,
   "metadata": {},
   "outputs": [
    {
     "data": {
      "text/plain": [
       "55403     1134.0\n",
       "11597     1120.0\n",
       "140011    1028.0\n",
       "56650     1000.0\n",
       "50804     1000.0\n",
       "           ...  \n",
       "489108       NaN\n",
       "489109       NaN\n",
       "489110       NaN\n",
       "489111       NaN\n",
       "489112       NaN\n",
       "Name: living_area, Length: 489111, dtype: float64"
      ]
     },
     "execution_count": 169,
     "metadata": {},
     "output_type": "execute_result"
    }
   ],
   "source": [
    "df.living_area.sort_values(ascending=False)"
   ]
  },
  {
   "cell_type": "code",
   "execution_count": 171,
   "metadata": {},
   "outputs": [
    {
     "data": {
      "text/plain": [
       "False    312931\n",
       "True     176180\n",
       "Name: living_area, dtype: int64"
      ]
     },
     "execution_count": 171,
     "metadata": {},
     "output_type": "execute_result"
    }
   ],
   "source": [
    "df.living_area.isna().value_counts()"
   ]
  },
  {
   "cell_type": "code",
   "execution_count": 173,
   "metadata": {},
   "outputs": [
    {
     "data": {
      "text/plain": [
       "<matplotlib.axes._subplots.AxesSubplot at 0x13e58d1af88>"
      ]
     },
     "execution_count": 173,
     "metadata": {},
     "output_type": "execute_result"
    },
    {
     "data": {
      "image/png": "[encoded data removed]",
      "text/plain": [
       "<Figure size 432x288 with 1 Axes>"
      ]
     },
     "metadata": {
      "needs_background": "light"
     },
     "output_type": "display_data"
    }
   ],
   "source": [
    "df.living_area.hist(bins=20)"
   ]
  },
  {
   "cell_type": "code",
   "execution_count": 176,
   "metadata": {},
   "outputs": [
    {
     "data": {
      "text/plain": [
       "<matplotlib.axes._subplots.AxesSubplot at 0x13e5ae40e08>"
      ]
     },
     "execution_count": 176,
     "metadata": {},
     "output_type": "execute_result"
    },
    {
     "data": {
      "image/png": "[encoded data removed]",
      "text/plain": [
       "<Figure size 432x288 with 1 Axes>"
      ]
     },
     "metadata": {
      "needs_background": "light"
     },
     "output_type": "display_data"
    }
   ],
   "source": [
    "df[df.living_area <= 100]['living_area'].hist(bins=20)"
   ]
  },
  {
   "cell_type": "code",
   "execution_count": 181,
   "metadata": {},
   "outputs": [
    {
     "data": {
      "text/plain": [
       "<matplotlib.axes._subplots.AxesSubplot at 0x13e5c0c7c88>"
      ]
     },
     "execution_count": 181,
     "metadata": {},
     "output_type": "execute_result"
    },
    {
     "data": {
      "image/png": "[encoded data removed]",
      "text/plain": [
       "<Figure size 432x288 with 1 Axes>"
      ]
     },
     "metadata": {
      "needs_background": "light"
     },
     "output_type": "display_data"
    }
   ],
   "source": [
    "df[(df.offer_type != 'room') & (df.living_area <= 100)]['living_area'].hist(bins=20)"
   ]
  },
  {
   "cell_type": "code",
   "execution_count": 182,
   "metadata": {
    "scrolled": true
   },
   "outputs": [
    {
     "data": {
      "text/plain": [
       "<matplotlib.axes._subplots.AxesSubplot at 0x13e5c4215c8>"
      ]
     },
     "execution_count": 182,
     "metadata": {},
     "output_type": "execute_result"
    },
    {
     "data": {
      "image/png": "[encoded data removed]",
      "text/plain": [
       "<Figure size 432x288 with 1 Axes>"
      ]
     },
     "metadata": {
      "needs_background": "light"
     },
     "output_type": "display_data"
    }
   ],
   "source": [
    "df[(df.offer_type == 'townhouse')]['living_area'].hist(bins=20)"
   ]
  },
  {
   "cell_type": "code",
   "execution_count": 186,
   "metadata": {},
   "outputs": [
    {
     "data": {
      "text/plain": [
       "86.8"
      ]
     },
     "execution_count": 186,
     "metadata": {},
     "output_type": "execute_result"
    }
   ],
   "source": [
    "df[df.offer_type.isin(['townhouse', 'house'])]['living_area'].median()"
   ]
  },
  {
   "cell_type": "code",
   "execution_count": 187,
   "metadata": {},
   "outputs": [
    {
     "data": {
      "text/plain": [
       "17.3"
      ]
     },
     "execution_count": 187,
     "metadata": {},
     "output_type": "execute_result"
    }
   ],
   "source": [
    "df[df.offer_type.isin(['room'])]['living_area'].median()"
   ]
  },
  {
   "cell_type": "code",
   "execution_count": 193,
   "metadata": {},
   "outputs": [
    {
     "data": {
      "text/plain": [
       "<matplotlib.axes._subplots.AxesSubplot at 0x13e5e586a88>"
      ]
     },
     "execution_count": 193,
     "metadata": {},
     "output_type": "execute_result"
    },
    {
     "data": {
      "image/png": "[encoded data removed]",
      "text/plain": [
       "<Figure size 432x288 with 1 Axes>"
      ]
     },
     "metadata": {
      "needs_background": "light"
     },
     "output_type": "display_data"
    }
   ],
   "source": [
    "df[(df.offer_type.isin(['room'])) & (df.living_area <= 60)]['living_area'].hist(bins=20, alpha=0.5)\n",
    "df[(df.offer_type.isin(['room'])) & (df.room_area <=60)]['room_area'].hist(bins=20, alpha=0.5)"
   ]
  },
  {
   "cell_type": "code",
   "execution_count": 188,
   "metadata": {},
   "outputs": [
    {
     "data": {
      "text/plain": [
       "17.0"
      ]
     },
     "execution_count": 188,
     "metadata": {},
     "output_type": "execute_result"
    }
   ],
   "source": [
    "df[df.offer_type.isin(['room'])]['room_area'].median()"
   ]
  },
  {
   "cell_type": "code",
   "execution_count": 191,
   "metadata": {},
   "outputs": [
    {
     "data": {
      "text/plain": [
       "<matplotlib.axes._subplots.AxesSubplot at 0x13eb2be4288>"
      ]
     },
     "execution_count": 191,
     "metadata": {},
     "output_type": "execute_result"
    },
    {
     "data": {
      "image/png": "[encoded data removed]",
      "text/plain": [
       "<Figure size 432x288 with 1 Axes>"
      ]
     },
     "metadata": {
      "needs_background": "light"
     },
     "output_type": "display_data"
    }
   ],
   "source": [
    "df[(df.offer_type.isin(['room'])) & (df.room_area <=60)]['room_area'].hist(bins=20)"
   ]
  },
  {
   "cell_type": "code",
   "execution_count": 195,
   "metadata": {},
   "outputs": [
    {
     "data": {
      "text/plain": [
       "<matplotlib.axes._subplots.AxesSubplot at 0x13e5fe5b848>"
      ]
     },
     "execution_count": 195,
     "metadata": {},
     "output_type": "execute_result"
    },
    {
     "data": {
      "image/png": "[encoded data removed]",
      "text/plain": [
       "<Figure size 432x288 with 1 Axes>"
      ]
     },
     "metadata": {
      "needs_background": "light"
     },
     "output_type": "display_data"
    }
   ],
   "source": [
    "df[(df.offer_type.isin(['room'])) & (df.living_area <= 60)]['living_area'].hist(bins=20)"
   ]
  },
  {
   "cell_type": "code",
   "execution_count": 196,
   "metadata": {},
   "outputs": [
    {
     "data": {
      "text/plain": [
       "False    12594\n",
       "True         3\n",
       "Name: room_area, dtype: int64"
      ]
     },
     "execution_count": 196,
     "metadata": {},
     "output_type": "execute_result"
    }
   ],
   "source": [
    "df[df.offer_type == 'room']['room_area'].isna().value_counts()"
   ]
  },
  {
   "cell_type": "code",
   "execution_count": 197,
   "metadata": {},
   "outputs": [
    {
     "data": {
      "text/plain": [
       "False    9130\n",
       "True     3467\n",
       "Name: living_area, dtype: int64"
      ]
     },
     "execution_count": 197,
     "metadata": {},
     "output_type": "execute_result"
    }
   ],
   "source": [
    "df[df.offer_type == 'room']['living_area'].isna().value_counts()"
   ]
  },
  {
   "cell_type": "code",
   "execution_count": 214,
   "metadata": {},
   "outputs": [
    {
     "data": {
      "text/plain": [
       "<matplotlib.axes._subplots.AxesSubplot at 0x13e7492e1c8>"
      ]
     },
     "execution_count": 214,
     "metadata": {},
     "output_type": "execute_result"
    },
    {
     "data": {
      "image/png": "[encoded data removed]",
      "text/plain": [
       "<Figure size 432x288 with 1 Axes>"
      ]
     },
     "metadata": {
      "needs_background": "light"
     },
     "output_type": "display_data"
    }
   ],
   "source": [
    "df.groupby(['agent_name', 'agent_phone'])['offer_type'].count().sort_values(ascending=False).head(10).plot.bar()"
   ]
  },
  {
   "cell_type": "code",
   "execution_count": 209,
   "metadata": {},
   "outputs": [
    {
     "data": {
      "text/plain": [
       "2.0"
      ]
     },
     "execution_count": 209,
     "metadata": {},
     "output_type": "execute_result"
    }
   ],
   "source": [
    "df.groupby(['agent_name', 'agent_phone'])['offer_type'].count().sort_values(ascending=False).median()"
   ]
  },
  {
   "cell_type": "code",
   "execution_count": 210,
   "metadata": {},
   "outputs": [
    {
     "data": {
      "text/plain": [
       "7.946176465809953"
      ]
     },
     "execution_count": 210,
     "metadata": {},
     "output_type": "execute_result"
    }
   ],
   "source": [
    "df.groupby(['agent_name', 'agent_phone'])['offer_type'].count().sort_values(ascending=False).mean()"
   ]
  },
  {
   "cell_type": "code",
   "execution_count": 218,
   "metadata": {},
   "outputs": [
    {
     "data": {
      "text/plain": [
       "<matplotlib.axes._subplots.AxesSubplot at 0x13e74d7e7c8>"
      ]
     },
     "execution_count": 218,
     "metadata": {},
     "output_type": "execute_result"
    },
    {
     "data": {
      "image/png": "[encoded data removed]",
      "text/plain": [
       "<Figure size 432x288 with 1 Axes>"
      ]
     },
     "metadata": {
      "needs_background": "light"
     },
     "output_type": "display_data"
    }
   ],
   "source": [
    "df.boxplot(column=['living_area', 'room_area'])"
   ]
  },
  {
   "cell_type": "code",
   "execution_count": 223,
   "metadata": {},
   "outputs": [
    {
     "data": {
      "text/plain": [
       "offer_type\n",
       "flat           True\n",
       "house         False\n",
       "house_part    False\n",
       "lot            True\n",
       "room           True\n",
       "townhouse     False\n",
       "Name: room_area, dtype: bool"
      ]
     },
     "execution_count": 223,
     "metadata": {},
     "output_type": "execute_result"
    }
   ],
   "source": [
    "df.groupby('offer_type')['room_area'].agg(lambda col: col.notnull().any())"
   ]
  },
  {
   "cell_type": "code",
   "execution_count": null,
   "metadata": {},
   "outputs": [],
   "source": []
  },
  {
   "cell_type": "code",
   "execution_count": null,
   "metadata": {},
   "outputs": [],
   "source": []
  },
  {
   "cell_type": "code",
   "execution_count": null,
   "metadata": {},
   "outputs": [],
   "source": []
  },
  {
   "cell_type": "code",
   "execution_count": null,
   "metadata": {},
   "outputs": [],
   "source": []
  },
  {
   "cell_type": "code",
   "execution_count": null,
   "metadata": {},
   "outputs": [],
   "source": []
  },
  {
   "cell_type": "code",
   "execution_count": null,
   "metadata": {},
   "outputs": [],
   "source": []
  },
  {
   "cell_type": "code",
   "execution_count": null,
   "metadata": {},
   "outputs": [],
   "source": []
  }
 ],
 "metadata": {
  "kernelspec": {
   "display_name": "Python 3",
   "language": "python",
   "name": "python3"
  },
  "language_info": {
   "codemirror_mode": {
    "name": "ipython",
    "version": 3
   },
   "file_extension": ".py",
   "mimetype": "text/x-python",
   "name": "python",
   "nbconvert_exporter": "python",
   "pygments_lexer": "ipython3",
   "version": "3.7.6"
  }
 },
 "nbformat": 4,
 "nbformat_minor": 4
}
